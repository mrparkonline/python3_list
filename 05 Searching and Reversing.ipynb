{
 "cells": [
  {
   "cell_type": "markdown",
   "id": "thrown-blood",
   "metadata": {},
   "source": [
    "# Searching & Reversing a List\n",
    "---\n",
    "\n",
    "### Finding a Targetted Value\n",
    "\n",
    "```.index(target, start, end)``` method will find the first occurance of the target if it exists.\n",
    "- If the target does not exist, it raises and error\n",
    "- Both ```start``` and ```end``` arguments are __optional__\n",
    "    - They act like slicing mechanism, we can look for the index of a value within such boundaries"
   ]
  },
  {
   "cell_type": "code",
   "execution_count": 4,
   "id": "pacific-excuse",
   "metadata": {},
   "outputs": [
    {
     "name": "stdout",
     "output_type": "stream",
     "text": [
      "a_list.index('oranges'): 1\n",
      "a_list.index('kiwi', 1, 5): 2\n"
     ]
    }
   ],
   "source": [
    "# .index() example\n",
    "\n",
    "a_list = ['apple', 'oranges', 'kiwi', 'honeydew', 'apple']\n",
    "\n",
    "print(\"a_list.index('oranges'):\", a_list.index('oranges'))\n",
    "print(\"a_list.index('kiwi', 1, 5):\", a_list.index('kiwi', 1, 5))"
   ]
  },
  {
   "cell_type": "markdown",
   "id": "dynamic-vision",
   "metadata": {},
   "source": [
    "### Counting the Number of Occurrence of a Target\n",
    "\n",
    "```.count(target)``` method counts the number of times target occurs.\n",
    "- If target does not exist, returns 0"
   ]
  },
  {
   "cell_type": "code",
   "execution_count": 5,
   "id": "computational-sleeping",
   "metadata": {},
   "outputs": [
    {
     "name": "stdout",
     "output_type": "stream",
     "text": [
      "a_list.index('oranges'): 1\n",
      "a_list.index('apple'): 2\n",
      "a_list.index('strawberry'): 0\n"
     ]
    }
   ],
   "source": [
    "# .count() example\n",
    "\n",
    "a_list = ['apple', 'oranges', 'kiwi', 'honeydew', 'apple']\n",
    "\n",
    "print(\"a_list.index('oranges'):\", a_list.count('oranges'))\n",
    "print(\"a_list.index('apple'):\", a_list.count('apple'))\n",
    "print(\"a_list.index('strawberry'):\", a_list.count('strawberry'))"
   ]
  },
  {
   "cell_type": "markdown",
   "id": "designing-lecture",
   "metadata": {},
   "source": [
    "### Mutate and Reverse a list\n",
    "\n",
    "```.reverse()``` will reverse the order of the items in the list"
   ]
  },
  {
   "cell_type": "code",
   "execution_count": 6,
   "id": "induced-reservoir",
   "metadata": {},
   "outputs": [
    {
     "name": "stdout",
     "output_type": "stream",
     "text": [
      "a_list is now: ['apple', 'honeydew', 'kiwi', 'oranges', 'apple']\n"
     ]
    }
   ],
   "source": [
    "# .reverse() example\n",
    "\n",
    "a_list = ['apple', 'oranges', 'kiwi', 'honeydew', 'apple']\n",
    "a_list.reverse()\n",
    "\n",
    "print('a_list is now:', a_list)"
   ]
  }
 ],
 "metadata": {
  "kernelspec": {
   "display_name": "Python 3",
   "language": "python",
   "name": "python3"
  },
  "language_info": {
   "codemirror_mode": {
    "name": "ipython",
    "version": 3
   },
   "file_extension": ".py",
   "mimetype": "text/x-python",
   "name": "python",
   "nbconvert_exporter": "python",
   "pygments_lexer": "ipython3",
   "version": "3.8.5"
  }
 },
 "nbformat": 4,
 "nbformat_minor": 5
}
