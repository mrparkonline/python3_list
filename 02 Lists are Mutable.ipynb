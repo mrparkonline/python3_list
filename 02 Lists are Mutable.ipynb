{
 "cells": [
  {
   "cell_type": "markdown",
   "id": "religious-nickel",
   "metadata": {},
   "source": [
    "# Lists are Mutable\n",
    "---\n",
    "\n",
    "Lists are mutable data type. This means that its composition can be altered without recreation, reassignment, redeclaration. This can be dangerous for most new programmers.\n",
    "\n",
    "__Example 1: Altering via index:__"
   ]
  },
  {
   "cell_type": "code",
   "execution_count": 1,
   "id": "burning-delight",
   "metadata": {},
   "outputs": [
    {
     "name": "stdout",
     "output_type": "stream",
     "text": [
      "primes currently: [2, 3, 5, 7, 11]\n",
      "primes now: [2, 10000, 'Hello!', 7, 11]\n"
     ]
    }
   ],
   "source": [
    "# Manipulation by index\n",
    "\n",
    "primes = [2,3,5,7,11]\n",
    "print('primes currently:', primes)\n",
    "primes[1] = 10000\n",
    "primes[2] = 'Hello!'\n",
    "\n",
    "print('primes now:', primes)"
   ]
  },
  {
   "cell_type": "markdown",
   "id": "sustainable-cycle",
   "metadata": {},
   "source": [
    "In example 1, you can see that we can change the composition of the list without redeclaring a new list for the variable: ```primes```.\n",
    "\n",
    "__Example 2: Copying a List to another variable:__"
   ]
  },
  {
   "cell_type": "code",
   "execution_count": 2,
   "id": "charming-significance",
   "metadata": {},
   "outputs": [
    {
     "name": "stdout",
     "output_type": "stream",
     "text": [
      "primes1 currently: [2, 3, 5, 7, 11]\n",
      "primes2 currently: [2, 3, 5, 7, 11]\n",
      "primes1 now: [2, 3, 5, 7, 13]\n",
      "primes2 now: [2, 3, 5, 7, 13]\n"
     ]
    }
   ],
   "source": [
    "# Copying a list to a new variable\n",
    "\n",
    "primes1 = [2,3,5,7,11]\n",
    "primes2 = primes1\n",
    "print('primes1 currently:', primes1)\n",
    "print('primes2 currently:', primes2)\n",
    "\n",
    "primes2[-1] = 13\n",
    "\n",
    "print('primes1 now:', primes1)\n",
    "print('primes2 now:', primes2)"
   ]
  },
  {
   "cell_type": "markdown",
   "id": "fifth-humidity",
   "metadata": {},
   "source": [
    "In example 2, we have only manipulated the list called ```primes2```. However, the original list called ```primes1``` was also affected by the changes as well. \n",
    "\n",
    "This is because when a new variable is created to hold another list variable. Python saves memory by pointing towards where the original list is located rather than creating a whole new copy.\n",
    "\n",
    "Therefore, any changes will affect both variables.\n",
    "\n",
    "__Solution:__ Use a method called ```.copy()```\n",
    "\n",
    "This method will help us create a new list in memory with the same values from the original."
   ]
  },
  {
   "cell_type": "code",
   "execution_count": 3,
   "id": "modern-startup",
   "metadata": {},
   "outputs": [
    {
     "name": "stdout",
     "output_type": "stream",
     "text": [
      "primes1 currently: [2, 3, 5, 7, 11]\n",
      "primes2 currently: [2, 3, 5, 7, 11]\n",
      "primes1 now: [2, 3, 5, 7, 11]\n",
      "primes2 now: [2, 3, 5, 7, 13]\n"
     ]
    }
   ],
   "source": [
    "# Using .copy() method\n",
    "\n",
    "primes1 = [2,3,5,7,11]\n",
    "primes2 = primes1.copy() \n",
    "print('primes1 currently:', primes1)\n",
    "print('primes2 currently:', primes2)\n",
    "\n",
    "primes2[-1] = 13\n",
    "\n",
    "print('primes1 now:', primes1)\n",
    "print('primes2 now:', primes2)"
   ]
  },
  {
   "cell_type": "markdown",
   "id": "editorial-auckland",
   "metadata": {},
   "source": [
    "__Example 3: Sorting & List Methods__\n",
    "\n",
    "List has a built-in method to help sort. Unlike the ```sorted()``` function, list has a method which allows us to manipulate the list you are sorting without creating a whole new variable."
   ]
  },
  {
   "cell_type": "code",
   "execution_count": 4,
   "id": "arctic-giant",
   "metadata": {},
   "outputs": [
    {
     "name": "stdout",
     "output_type": "stream",
     "text": [
      "a_list now: ['H', 'e', 'l', 'l', 'o', ',', ' ', 'W', 'o', 'r', 'l', 'd', '!']\n",
      "a_list sorted: [' ', '!', ',', 'H', 'W', 'd', 'e', 'l', 'l', 'l', 'o', 'o', 'r']\n"
     ]
    }
   ],
   "source": [
    "# List. sort() method\n",
    "\n",
    "a_list = list('Hello, World!')\n",
    "print('a_list now:', a_list)\n",
    "\n",
    "a_list.sort()\n",
    "\n",
    "print('a_list sorted:', a_list)"
   ]
  },
  {
   "cell_type": "markdown",
   "id": "lyric-contrast",
   "metadata": {},
   "source": [
    "Examine that there is no __assignment operation__ occurring to help us sort. We are using a method that lists have to just manipulate the given list rather than needing to create a new container _like strings._\n",
    "\n",
    "Below are the list of methods that affect the composition of a list. They will not require recreation/reassignment.\n",
    "- append()\n",
    "- extend()\n",
    "- insert()\n",
    "- remove()\n",
    "- pop()\n",
    "- sort()\n",
    "- reverse()"
   ]
  }
 ],
 "metadata": {
  "kernelspec": {
   "display_name": "Python 3",
   "language": "python",
   "name": "python3"
  },
  "language_info": {
   "codemirror_mode": {
    "name": "ipython",
    "version": 3
   },
   "file_extension": ".py",
   "mimetype": "text/x-python",
   "name": "python",
   "nbconvert_exporter": "python",
   "pygments_lexer": "ipython3",
   "version": "3.8.5"
  }
 },
 "nbformat": 4,
 "nbformat_minor": 5
}
