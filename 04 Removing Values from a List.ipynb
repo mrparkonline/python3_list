{
 "cells": [
  {
   "cell_type": "markdown",
   "id": "stainless-circulation",
   "metadata": {},
   "source": [
    "# Removing Values from a List\n",
    "---\n",
    "\n",
    "There are many ways to remove values from a list, we will be exploring most of them. \n",
    "\n",
    "With removal, there are a lot of dangerous situations that can occur. It is advised to understand each technique before thinking about value removals.\n",
    "\n",
    "### Removal by a Target Value\n",
    "\n",
    "```.remove(target)``` method will remove the __first occurance__ of the targetted value if it exists in the list.\n",
    "\n",
    "If the target_value doesn’t exist, it will produce an __error__."
   ]
  },
  {
   "cell_type": "code",
   "execution_count": 1,
   "id": "trained-reach",
   "metadata": {},
   "outputs": [
    {
     "name": "stdout",
     "output_type": "stream",
     "text": [
      "a_list: ['oranges', 'honeydew', 'apple']\n"
     ]
    }
   ],
   "source": [
    "# .remove() example\n",
    "\n",
    "a_list = ['apple', 'oranges', 'kiwi', 'honeydew', 'apple']\n",
    "a_list.remove('apple')\n",
    "a_list.remove('kiwi')\n",
    "\n",
    "print('a_list:', a_list)"
   ]
  },
  {
   "cell_type": "markdown",
   "id": "technological-twist",
   "metadata": {},
   "source": [
    "### Removal by Index\n",
    "\n",
    "```.pop(target_index)``` will remove a value located at the ```target_index``` and __RETURN THE VALUE__.\n",
    "- If the target_index goes beyond the list size, it will produce an error.\n",
    "- ```pop()``` without an target index returns and removes the last value"
   ]
  },
  {
   "cell_type": "code",
   "execution_count": 3,
   "id": "pleased-exchange",
   "metadata": {},
   "outputs": [
    {
     "name": "stdout",
     "output_type": "stream",
     "text": [
      "a_list: ['apple', 'oranges', 'honeydew']\n",
      "removed1: apple\n"
     ]
    }
   ],
   "source": [
    "# .pop() example\n",
    "\n",
    "a_list = ['apple', 'oranges', 'kiwi', 'honeydew', 'apple']\n",
    "removed1 = a_list.pop()\n",
    "a_list.pop(2)\n",
    "\n",
    "\n",
    "print('a_list:', a_list)\n",
    "print('removed1:', removed1)"
   ]
  },
  {
   "cell_type": "markdown",
   "id": "improved-villa",
   "metadata": {},
   "source": [
    "### Removing All Items in a List\n",
    "\n",
    "```.clear()``` is a method that will empty out its list."
   ]
  },
  {
   "cell_type": "code",
   "execution_count": 4,
   "id": "built-bachelor",
   "metadata": {},
   "outputs": [
    {
     "name": "stdout",
     "output_type": "stream",
     "text": [
      "a_list: []\n"
     ]
    }
   ],
   "source": [
    "# .clear() example\n",
    "\n",
    "a_list = ['apple', 'oranges', 'kiwi', 'honeydew', 'apple']\n",
    "a_list.clear()\n",
    "\n",
    "print('a_list:', a_list)"
   ]
  },
  {
   "cell_type": "markdown",
   "id": "governmental-mount",
   "metadata": {},
   "source": [
    "### Introduction to ```del```\n",
    "\n",
    "```del``` is used to delete objects in Python. _The concepts of \"objects\" are discussed in a future course!_\n",
    "\n",
    "_```del``` can delete an entire instance of a list_"
   ]
  },
  {
   "cell_type": "code",
   "execution_count": 5,
   "id": "varied-preserve",
   "metadata": {},
   "outputs": [
    {
     "ename": "NameError",
     "evalue": "name 'a_list' is not defined",
     "output_type": "error",
     "traceback": [
      "\u001b[0;31m---------------------------------------------------------------------------\u001b[0m",
      "\u001b[0;31mNameError\u001b[0m                                 Traceback (most recent call last)",
      "\u001b[0;32m<ipython-input-5-eb3269d4b4cb>\u001b[0m in \u001b[0;36m<module>\u001b[0;34m\u001b[0m\n\u001b[1;32m      4\u001b[0m \u001b[0;32mdel\u001b[0m \u001b[0ma_list\u001b[0m\u001b[0;34m\u001b[0m\u001b[0;34m\u001b[0m\u001b[0m\n\u001b[1;32m      5\u001b[0m \u001b[0;34m\u001b[0m\u001b[0m\n\u001b[0;32m----> 6\u001b[0;31m \u001b[0mprint\u001b[0m\u001b[0;34m(\u001b[0m\u001b[0;34m'a_list:'\u001b[0m\u001b[0;34m,\u001b[0m \u001b[0ma_list\u001b[0m\u001b[0;34m)\u001b[0m\u001b[0;34m\u001b[0m\u001b[0;34m\u001b[0m\u001b[0m\n\u001b[0m",
      "\u001b[0;31mNameError\u001b[0m: name 'a_list' is not defined"
     ]
    }
   ],
   "source": [
    "# del example 1\n",
    "\n",
    "a_list = ['apple', 'oranges', 'kiwi', 'honeydew', 'apple']\n",
    "del a_list\n",
    "\n",
    "print('a_list:', a_list)"
   ]
  },
  {
   "cell_type": "markdown",
   "id": "sound-effects",
   "metadata": {},
   "source": [
    "Notice that since the variable was deleted, we get an error say that the ```a_list``` was never created.\n",
    "\n",
    "_```del``` can delete a single item in a list by indexing_"
   ]
  },
  {
   "cell_type": "code",
   "execution_count": 6,
   "id": "comic-album",
   "metadata": {},
   "outputs": [
    {
     "name": "stdout",
     "output_type": "stream",
     "text": [
      "a_list: ['apple', 'kiwi', 'honeydew']\n"
     ]
    }
   ],
   "source": [
    "# del example 2\n",
    "\n",
    "a_list = ['apple', 'oranges', 'kiwi', 'honeydew', 'apple']\n",
    "del a_list[1]\n",
    "del a_list[-1]\n",
    "\n",
    "print('a_list:', a_list)"
   ]
  },
  {
   "cell_type": "markdown",
   "id": "renewable-terrain",
   "metadata": {},
   "source": [
    "There are no errors here since we are only deleting single items from the list.\n",
    "\n",
    "_```del``` can delete via slicing_"
   ]
  },
  {
   "cell_type": "code",
   "execution_count": 8,
   "id": "synthetic-italian",
   "metadata": {},
   "outputs": [
    {
     "name": "stdout",
     "output_type": "stream",
     "text": [
      "a_list: ['honeydew', 'apple']\n"
     ]
    }
   ],
   "source": [
    "# del example 3\n",
    "\n",
    "a_list = ['apple', 'oranges', 'kiwi', 'honeydew', 'apple']\n",
    "del a_list[0:3]\n",
    "\n",
    "print('a_list:', a_list)"
   ]
  },
  {
   "cell_type": "markdown",
   "id": "respiratory-despite",
   "metadata": {},
   "source": [
    "Notice that the first three items were deleted from a_list.\n",
    "\n",
    "## MAJOR DANGER: Deletion During Iteration\n",
    "\n",
    "It is very common for beginner programmers to _delete while iterating the targeted list_.\n",
    "\n",
    "__Observe:__"
   ]
  },
  {
   "cell_type": "code",
   "execution_count": 12,
   "id": "mechanical-uzbekistan",
   "metadata": {},
   "outputs": [
    {
     "name": "stdout",
     "output_type": "stream",
     "text": [
      "value is currently: apple\n",
      "value is currently: oranges\n",
      "value is currently: kiwi\n",
      "value is currently: apple\n",
      "----------------------------------------------------------------\n",
      "a_list: ['apple', 'oranges', 'honeydew', 'apple']\n"
     ]
    }
   ],
   "source": [
    "# Example of bad practice\n",
    "\n",
    "a_list = ['apple', 'oranges', 'kiwi', 'honeydew', 'apple']\n",
    "for value in a_list:\n",
    "    if value == 'kiwi':\n",
    "        a_list.remove(value)\n",
    "    \n",
    "    print('value is currently:', value)\n",
    "print('-'*64)\n",
    "\n",
    "print('a_list:', a_list)"
   ]
  },
  {
   "cell_type": "markdown",
   "id": "modern-optimization",
   "metadata": {},
   "source": [
    "__Explanation:__\n",
    "- The print statement inside the iteration prints 'kiwi'\n",
    "- The print statement of 'kiwi' should have been impossible since 'kiwi' was deleted\n",
    "- This happens because _a for loop never re-checks the value of a_list_\n",
    "\n",
    "__Recommendations:__\n",
    "1. Use while loops and index-based deletion\n",
    "2. Make a copy of the list, execute deletion on the copy"
   ]
  }
 ],
 "metadata": {
  "kernelspec": {
   "display_name": "Python 3",
   "language": "python",
   "name": "python3"
  },
  "language_info": {
   "codemirror_mode": {
    "name": "ipython",
    "version": 3
   },
   "file_extension": ".py",
   "mimetype": "text/x-python",
   "name": "python",
   "nbconvert_exporter": "python",
   "pygments_lexer": "ipython3",
   "version": "3.8.5"
  }
 },
 "nbformat": 4,
 "nbformat_minor": 5
}
