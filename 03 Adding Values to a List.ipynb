{
 "cells": [
  {
   "cell_type": "markdown",
   "id": "frozen-flood",
   "metadata": {},
   "source": [
    "# Adding Values to a List\n",
    "---\n",
    "\n",
    "List's versatility to comes from its ability to contain information and add on information. This lesson covers how to do so.\n",
    "\n",
    "### Adding an Item to the End of a List\n",
    "\n",
    "This is the safest and the recommended way to add values: _add the new value to the end_.\n",
    "\n",
    "```.append(item)``` is method that adds the given item to the end of a list."
   ]
  },
  {
   "cell_type": "code",
   "execution_count": 1,
   "id": "catholic-conservation",
   "metadata": {},
   "outputs": [
    {
     "name": "stdout",
     "output_type": "stream",
     "text": [
      "a_list: ['apple', 'oranges', 'kiwi', 'honeydew']\n"
     ]
    }
   ],
   "source": [
    "# .append() Example\n",
    "\n",
    "a_list = ['apple', 'oranges']\n",
    "a_list.append('kiwi')\n",
    "a_list.append('honeydew')\n",
    "print('a_list:', a_list)"
   ]
  },
  {
   "cell_type": "markdown",
   "id": "posted-helicopter",
   "metadata": {},
   "source": [
    "### Adding an Item at a Location\n",
    "\n",
    "This technique can cause potential issues; however, it does exist!\n",
    "\n",
    "```.insert(location, item)``` will add the given item at the specified integer location.\n",
    "\n",
    "__NOTES:__\n",
    "- If the location is beyond the size, it will add it to the end\n",
    "- Location can be negative\n",
    "- If the location already has a value, it will shift everything at the location onwards to the right to add the item"
   ]
  },
  {
   "cell_type": "code",
   "execution_count": 3,
   "id": "freelance-anchor",
   "metadata": {},
   "outputs": [
    {
     "name": "stdout",
     "output_type": "stream",
     "text": [
      "a_list.insert(5, 11): [2, 3, 5, 7, 11]\n",
      "a_list.insert(-1, 13): [2, 3, 5, 7, 13, 11]\n",
      "a_list.insert(2, 4): [2, 3, 4, 5, 7, 13, 11]\n"
     ]
    }
   ],
   "source": [
    "# .insert() Example\n",
    "\n",
    "a_list = [2,3,5,7]\n",
    "\n",
    "a_list.insert(5, 11)\n",
    "print('a_list.insert(5, 11):', a_list)\n",
    "a_list.insert(-1, 13)\n",
    "print('a_list.insert(-1, 13):', a_list)\n",
    "a_list.insert(2, 4)\n",
    "print('a_list.insert(2, 4):', a_list)"
   ]
  },
  {
   "cell_type": "markdown",
   "id": "painted-eleven",
   "metadata": {},
   "source": [
    "### Combining Lists\n",
    "\n",
    "There are multiple ways to combine lists!\n",
    "\n",
    "1. Manipulate a list with all the value from another at the tail-end.\n",
    "\n",
    "```.extend(list)``` is a method that adds all the items from the given list argument to its list."
   ]
  },
  {
   "cell_type": "code",
   "execution_count": 5,
   "id": "suburban-frame",
   "metadata": {},
   "outputs": [
    {
     "name": "stdout",
     "output_type": "stream",
     "text": [
      "basket: ['apple', 'oranges', 'kiwi', 'honeydew', 'onions', 'garlic', 'spinach']\n",
      "fruits: ['apple', 'oranges', 'kiwi', 'honeydew']\n",
      "vegetables: ['onions', 'garlic', 'spinach']\n"
     ]
    }
   ],
   "source": [
    "# .extend() example\n",
    "\n",
    "basket = [] # Empty List\n",
    "fruits = ['apple', 'oranges', 'kiwi', 'honeydew']\n",
    "vegetables = ['onions', 'garlic', 'spinach']\n",
    "\n",
    "basket.extend(fruits)\n",
    "basket.extend(vegetables)\n",
    "print('basket:', basket)\n",
    "print('fruits:', fruits)\n",
    "print('vegetables:', vegetables)"
   ]
  },
  {
   "cell_type": "markdown",
   "id": "progressive-wrapping",
   "metadata": {},
   "source": [
    "2. Use the ```+ operator``` to generate a new list\n",
    "\n",
    "The ```+``` operator is the _concatenation_ operator much like how strings have one. \n",
    "\n",
    "Instead of manipulate the left operand, it will return a new list."
   ]
  },
  {
   "cell_type": "code",
   "execution_count": 8,
   "id": "enormous-constitution",
   "metadata": {},
   "outputs": [
    {
     "name": "stdout",
     "output_type": "stream",
     "text": [
      "basket: ['apple', 'oranges', 'kiwi', 'honeydew', 'onions', 'garlic', 'spinach']\n"
     ]
    }
   ],
   "source": [
    "# concatenation example\n",
    "\n",
    "fruits = ['apple', 'oranges', 'kiwi', 'honeydew']\n",
    "vegetables = ['onions', 'garlic', 'spinach']\n",
    "baskets = fruits + vegetables\n",
    "\n",
    "print('basket:', basket)"
   ]
  },
  {
   "cell_type": "markdown",
   "id": "level-spray",
   "metadata": {},
   "source": [
    "3. Preserve the variable but generate a new list ```+=``` operator\n",
    "\n",
    "We can also use the ```+=``` assignment operator to concatenate then assign."
   ]
  },
  {
   "cell_type": "code",
   "execution_count": 9,
   "id": "continued-rental",
   "metadata": {},
   "outputs": [
    {
     "name": "stdout",
     "output_type": "stream",
     "text": [
      "primes: [2, 3, 5, 7, 11, 13]\n"
     ]
    }
   ],
   "source": [
    "# += example\n",
    "\n",
    "primes = [2, 3, 5, 7]\n",
    "primes += [11, 13]\n",
    "\n",
    "print('primes:', primes)"
   ]
  },
  {
   "cell_type": "markdown",
   "id": "nuclear-arizona",
   "metadata": {},
   "source": [
    "### List Repetition Operation\n",
    "\n",
    "```*``` operator helps us repeat a list.\n",
    "\n",
    "__Example:__"
   ]
  },
  {
   "cell_type": "code",
   "execution_count": 10,
   "id": "smoking-investor",
   "metadata": {},
   "outputs": [
    {
     "name": "stdout",
     "output_type": "stream",
     "text": [
      "[1, 2, 3, 1, 2, 3, 1, 2, 3]\n",
      "[1, 2, 3, 1, 2, 3, 1, 2, 3]\n"
     ]
    }
   ],
   "source": [
    "a = [1,2,3]\n",
    "print(a*3)\n",
    "\n",
    "a *= 3\n",
    "print(a)"
   ]
  }
 ],
 "metadata": {
  "kernelspec": {
   "display_name": "Python 3",
   "language": "python",
   "name": "python3"
  },
  "language_info": {
   "codemirror_mode": {
    "name": "ipython",
    "version": 3
   },
   "file_extension": ".py",
   "mimetype": "text/x-python",
   "name": "python",
   "nbconvert_exporter": "python",
   "pygments_lexer": "ipython3",
   "version": "3.8.5"
  }
 },
 "nbformat": 4,
 "nbformat_minor": 5
}
