{
 "cells": [
  {
   "cell_type": "markdown",
   "id": "bound-baseball",
   "metadata": {},
   "source": [
    "# List Basics\n",
    "---\n",
    "\n",
    "__Lists__ are a collection data item values.\n",
    "- List is a built-in data type in Python 3\n",
    "- Each item can be same or different data type (Int, Float, String, Boolean, List, and etc)\n",
    "- Each items are separated by a comma except the last\n",
    "- A list is denoted by square brackets: ```[ ]```\n",
    "- A list is iterable; therefore, we can traverse through it with a for loop\n",
    "- Lists are compatible with the following built-in functions:\n",
    "    - ```str() and tuple()``` :: can be converted to these data-types easily\n",
    "    - ```len()``` :: returns the size of your list\n",
    "    - ```enumerate()``` :: to help you pair index and items\n",
    "    - ```reversed()``` :: will create a flipped iterator object\n",
    "    - ```sorted()``` :: will help you return a sorted version of the list\n",
    "    - ```min() and max()``` :: will help you determine the least and greatest value within a list, and compare lists\n",
    "    - ```sum()``` :: in a list composed of numeric values, sum() will add up all the values\n",
    "    - _many more, but they are deemed advanced and requires their own lessons_\n",
    "\n",
    "__Examples:__"
   ]
  },
  {
   "cell_type": "code",
   "execution_count": 7,
   "id": "intimate-bangladesh",
   "metadata": {},
   "outputs": [
    {
     "name": "stdout",
     "output_type": "stream",
     "text": [
      "c_list: [[1, 2, 3, 4, 5, 6], ['h', 'e', 'l', 'l', 'o'], True]\n"
     ]
    }
   ],
   "source": [
    "# Examples of Lists in Python\n",
    "\n",
    "a_list = [1,2,3,4,5,6]\n",
    "b_list = ['h', 'e', 'l', 'l', 'o']\n",
    "c_list = [\n",
    "\t[1,2,3,4,5,6],\n",
    "\t['h', 'e', 'l', 'l', 'o'],\n",
    "\tTrue\n",
    "]\n",
    "\n",
    "print('c_list:', c_list)"
   ]
  },
  {
   "cell_type": "markdown",
   "id": "funded-rebecca",
   "metadata": {},
   "source": [
    "### Generating Lists from Sequences\n",
    "\n",
    "__```list()``` function:__\n",
    "\n",
    "- Converts the argument into a list\n",
    "- The argument should be either a sequence-like data (example: strings)"
   ]
  },
  {
   "cell_type": "code",
   "execution_count": 6,
   "id": "nearby-issue",
   "metadata": {},
   "outputs": [
    {
     "name": "stdout",
     "output_type": "stream",
     "text": [
      "result1: ['h', 'e', 'l', 'l', 'o']\n",
      "result2: [10, 13, 16, 19]\n",
      "result3: ['1', '2', '3', '4']\n"
     ]
    }
   ],
   "source": [
    "# Using List()\n",
    "\n",
    "result1 = list(\"hello\")\n",
    "result2 = list(range(10,20,3))\n",
    "result3 = list(str(1234))\n",
    "\n",
    "print('result1:', result1)\n",
    "print('result2:', result2)\n",
    "print('result3:', result3)"
   ]
  },
  {
   "cell_type": "markdown",
   "id": "variable-granny",
   "metadata": {},
   "source": [
    "### Traversal & Accessing a List\n",
    "\n",
    "__To Traverse:__ _to travel across_; helps us get through our data."
   ]
  },
  {
   "cell_type": "code",
   "execution_count": 8,
   "id": "civil-burden",
   "metadata": {},
   "outputs": [
    {
     "name": "stdout",
     "output_type": "stream",
     "text": [
      "Current item: 1\n",
      "Current item: 2\n",
      "Current item: 3\n",
      "Current item: 4\n",
      "Current item: hello!\n"
     ]
    }
   ],
   "source": [
    "# For Loop & Lists\n",
    "\n",
    "for item in [1,2,3,4, 'hello!']:\n",
    "    print('Current item:', item)"
   ]
  },
  {
   "cell_type": "markdown",
   "id": "logical-minneapolis",
   "metadata": {},
   "source": [
    "__Lists are indexable__\n",
    "\n",
    "Similar to strings, we can look at an individual value at an index location; returns a value."
   ]
  },
  {
   "cell_type": "code",
   "execution_count": 9,
   "id": "stable-specialist",
   "metadata": {},
   "outputs": [
    {
     "name": "stdout",
     "output_type": "stream",
     "text": [
      "a_list[0]: 10\n",
      "a_list[1]: 13\n",
      "a_list[3]: 19\n",
      "a_list[-1]: 19\n"
     ]
    }
   ],
   "source": [
    "# List Indexing\n",
    "# Format: list[location] gives us a value\n",
    "\n",
    "a_list = [10, 13, 16, 19]\n",
    "print('a_list[0]:', a_list[0])\n",
    "print('a_list[1]:', a_list[1])\n",
    "print('a_list[3]:', a_list[3])\n",
    "print('a_list[-1]:', a_list[-1])"
   ]
  },
  {
   "cell_type": "markdown",
   "id": "amateur-azerbaijan",
   "metadata": {},
   "source": [
    "We can also traverse by index:"
   ]
  },
  {
   "cell_type": "code",
   "execution_count": 10,
   "id": "usual-deposit",
   "metadata": {},
   "outputs": [
    {
     "name": "stdout",
     "output_type": "stream",
     "text": [
      "Item at index 0 is h.\n",
      "Item at index 1 is e.\n",
      "Item at index 2 is l.\n",
      "Item at index 3 is l.\n",
      "Item at index 4 is o.\n"
     ]
    }
   ],
   "source": [
    "# List Traverse with index:\n",
    "\n",
    "a_list = list('hello')\n",
    "\n",
    "for i in range(len(a_list)):\n",
    "    print('Item at index %d is %s.' % (i, a_list[i]))"
   ]
  },
  {
   "cell_type": "markdown",
   "id": "norwegian-clearing",
   "metadata": {},
   "source": [
    "__Lists are Sliceable__\n",
    "\n",
    "We can look at portions of a list by slicing; slicing returns a sample of the list back.\n",
    "\n",
    "```Slicing = [start:end:step] step is 1 if not defined```"
   ]
  },
  {
   "cell_type": "code",
   "execution_count": 13,
   "id": "taken-today",
   "metadata": {},
   "outputs": [
    {
     "name": "stdout",
     "output_type": "stream",
     "text": [
      "a_list[0:len(a_list)]: [10, 11, 12, 13, 14, 15, 16, 17, 18, 19]\n",
      "a_list[1:2]: [11]\n",
      "a_list[:3]: [10, 11, 12]\n",
      "a_list[::-1]: [19, 18, 17, 16, 15, 14, 13, 12, 11, 10]\n",
      "a_list[-2:-4:-1]: [18, 17]\n"
     ]
    }
   ],
   "source": [
    "# List Slicing\n",
    "\n",
    "a_list = list(range(10,20))\n",
    "\n",
    "print('a_list[0:len(a_list)]:', a_list[0:len(a_list)])\n",
    "print('a_list[1:2]:', a_list[1:2])\n",
    "print('a_list[:3]:', a_list[:3])\n",
    "print('a_list[::-1]:', a_list[::-1])\n",
    "print('a_list[-2:-4:-1]:', a_list[-2:-4:-1])"
   ]
  }
 ],
 "metadata": {
  "kernelspec": {
   "display_name": "Python 3",
   "language": "python",
   "name": "python3"
  },
  "language_info": {
   "codemirror_mode": {
    "name": "ipython",
    "version": 3
   },
   "file_extension": ".py",
   "mimetype": "text/x-python",
   "name": "python",
   "nbconvert_exporter": "python",
   "pygments_lexer": "ipython3",
   "version": "3.8.5"
  }
 },
 "nbformat": 4,
 "nbformat_minor": 5
}
